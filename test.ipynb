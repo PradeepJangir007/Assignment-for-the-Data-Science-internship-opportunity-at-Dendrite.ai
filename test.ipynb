{
 "cells": [
  {
   "cell_type": "code",
   "execution_count": 1,
   "metadata": {},
   "outputs": [],
   "source": [
    "from MLModel import *\n",
    "from MLModel import MLModel as ml"
   ]
  },
  {
   "cell_type": "code",
   "execution_count": 2,
   "metadata": {},
   "outputs": [
    {
     "name": "stdout",
     "output_type": "stream",
     "text": [
      "[Errno 2] No such file or directory: 'iris_modified.csv'\n",
      "Data read successfully\n"
     ]
    }
   ],
   "source": [
    "model = ml('algoparams_from_ui.json.rtf')"
   ]
  },
  {
   "cell_type": "code",
   "execution_count": 3,
   "metadata": {},
   "outputs": [
    {
     "data": {
      "text/plain": [
       "[Pipeline(steps=[('feature_selection',\n",
       "                  SelectFromModel(estimator=RandomForestRegressor(max_depth=6,\n",
       "                                                                  n_estimators=5),\n",
       "                                  max_features=4, threshold=-inf)),\n",
       "                 ('RandomForestRegressor', RandomForestRegressor())]),\n",
       " Pipeline(steps=[('feature_selection',\n",
       "                  SelectFromModel(estimator=RandomForestRegressor(max_depth=6,\n",
       "                                                                  n_estimators=5),\n",
       "                                  max_features=4, threshold=-inf)),\n",
       "                 ('GBTRegressor', GradientBoostingRegressor())])]"
      ]
     },
     "execution_count": 3,
     "metadata": {},
     "output_type": "execute_result"
    }
   ],
   "source": [
    "model.get_selected_models()"
   ]
  },
  {
   "cell_type": "code",
   "execution_count": 4,
   "metadata": {},
   "outputs": [
    {
     "data": {
      "text/plain": [
       "{'RandomForestRegressor': {'RandomForestRegressor__n_estimators': [10,\n",
       "   11,\n",
       "   12,\n",
       "   13,\n",
       "   14,\n",
       "   15,\n",
       "   16,\n",
       "   17,\n",
       "   18,\n",
       "   19,\n",
       "   20],\n",
       "  'RandomForestRegressor__max_depth': [20, 21, 22, 23, 24, 25],\n",
       "  'RandomForestRegressor__min_samples_leaf': [5, 6, 7, 8, 9, 10]},\n",
       " 'GBTRegressor': {'GBTRegressor__n_estimators': [67, 89],\n",
       "  'GBTRegressor__learning_rate': [0.1,\n",
       "   0.11,\n",
       "   0.12,\n",
       "   0.13,\n",
       "   0.14,\n",
       "   0.15,\n",
       "   0.16,\n",
       "   0.17,\n",
       "   0.18,\n",
       "   0.19,\n",
       "   0.2,\n",
       "   0.21,\n",
       "   0.22,\n",
       "   0.23,\n",
       "   0.24,\n",
       "   0.25,\n",
       "   0.26,\n",
       "   0.27,\n",
       "   0.28,\n",
       "   0.29,\n",
       "   0.3,\n",
       "   0.31,\n",
       "   0.32,\n",
       "   0.33,\n",
       "   0.34,\n",
       "   0.35,\n",
       "   0.36,\n",
       "   0.37,\n",
       "   0.38,\n",
       "   0.39,\n",
       "   0.4,\n",
       "   0.41,\n",
       "   0.42,\n",
       "   0.43,\n",
       "   0.44,\n",
       "   0.45,\n",
       "   0.46,\n",
       "   0.47,\n",
       "   0.48,\n",
       "   0.49,\n",
       "   0.5],\n",
       "  'GBTRegressor__max_depth': [5, 6, 7]}}"
      ]
     },
     "execution_count": 4,
     "metadata": {},
     "output_type": "execute_result"
    }
   ],
   "source": [
    "model.generate_param_grid()"
   ]
  },
  {
   "cell_type": "code",
   "execution_count": 5,
   "metadata": {},
   "outputs": [
    {
     "name": "stdout",
     "output_type": "stream",
     "text": [
      "Fitting 6 folds for each of 396 candidates, totalling 2376 fits\n",
      "{'MSE': 0.008786730546982974, 'MAE': 0.06346861489159472, 'R2': 0.9846563781689384}\n",
      "Fitting 6 folds for each of 246 candidates, totalling 1476 fits\n",
      "{'MSE': 5.0169520910917144e-05, 'MAE': 0.0045830460098369745, 'R2': 0.9999123926525132}\n"
     ]
    },
    {
     "data": {
      "text/plain": [
       "[Pipeline(steps=[('feature_selection',\n",
       "                  SelectFromModel(estimator=RandomForestRegressor(max_depth=6,\n",
       "                                                                  n_estimators=5),\n",
       "                                  max_features=4, threshold=-inf)),\n",
       "                 ('RandomForestRegressor',\n",
       "                  RandomForestRegressor(max_depth=22, min_samples_leaf=5,\n",
       "                                        n_estimators=19))]),\n",
       " Pipeline(steps=[('feature_selection',\n",
       "                  SelectFromModel(estimator=RandomForestRegressor(max_depth=6,\n",
       "                                                                  n_estimators=5),\n",
       "                                  max_features=4, threshold=-inf)),\n",
       "                 ('GBTRegressor',\n",
       "                  GradientBoostingRegressor(learning_rate=0.11, max_depth=5,\n",
       "                                            n_estimators=67))])]"
      ]
     },
     "execution_count": 5,
     "metadata": {},
     "output_type": "execute_result"
    }
   ],
   "source": [
    "model.run()"
   ]
  },
  {
   "cell_type": "code",
   "execution_count": null,
   "metadata": {},
   "outputs": [],
   "source": []
  }
 ],
 "metadata": {
  "kernelspec": {
   "display_name": "testenv",
   "language": "python",
   "name": "python3"
  },
  "language_info": {
   "codemirror_mode": {
    "name": "ipython",
    "version": 3
   },
   "file_extension": ".py",
   "mimetype": "text/x-python",
   "name": "python",
   "nbconvert_exporter": "python",
   "pygments_lexer": "ipython3",
   "version": "3.12.4"
  }
 },
 "nbformat": 4,
 "nbformat_minor": 2
}
